{
 "cells": [
  {
   "cell_type": "markdown",
   "metadata": {},
   "source": [
    "[slides](https://docs.google.com/presentation/d/19K9nVjuSOCrZGM6lmFeEEarTm2xZwDSiZEIzf-Ywr5o/edit?usp=sharing)\n",
    "\n",
    "[python-ecdsa docs](https://github.com/warner/python-ecdsa)"
   ]
  },
  {
   "cell_type": "markdown",
   "metadata": {},
   "source": [
    "# Signing our First Message with ECDSA"
   ]
  },
  {
   "cell_type": "code",
   "execution_count": 14,
   "metadata": {},
   "outputs": [
    {
     "data": {
      "text/plain": [
       "True"
      ]
     },
     "execution_count": 14,
     "metadata": {},
     "output_type": "execute_result"
    }
   ],
   "source": [
    "from ecdsa import SigningKey, SECP256k1\n",
    "\n",
    "privateKey = SigningKey.generate(SECP256k1)\n",
    "publicKey = privateKey.get_verifying_key()\n",
    "\n",
    "message = b\"bitcoin is life\"\n",
    "signature = privateKey.sign(message)\n",
    "\n",
    "publicKey.verify(signature, message)"
   ]
  },
  {
   "cell_type": "markdown",
   "metadata": {},
   "source": [
    "# Defining ECDSACoin\n",
    "\n",
    "* A coin is just a list of transfers, just like with PNGCoin. \n",
    "    * Where transfers were photographs of signatures in PNGCoin, they are ECDSA digital signatures in ECDSACoin\n",
    "* The `public_key` in the last transfer is who owns the coin\n",
    "* To spend the coin append a new transfer. Use the public key of the person you are sending to, and sign it using your private key."
   ]
  },
  {
   "cell_type": "code",
   "execution_count": 3,
   "metadata": {},
   "outputs": [],
   "source": [
    "class Transfer:\n",
    "    def __init__(self, signature, publicKey):\n",
    "        self.signature = signature\n",
    "        self.publicKey = publicKey\n",
    "        \n",
    "class ECDSACoin:\n",
    "    def __init__(self, transfers):\n",
    "        self.transfers = transfers"
   ]
  },
  {
   "cell_type": "code",
   "execution_count": 11,
   "metadata": {},
   "outputs": [],
   "source": [
    "# The usual suspects ... \n",
    "# SECP256k1 is a detail about the \"magical multiplication\" used under the covers\n",
    "\n",
    "bank_private_key = SigningKey.generate(curve=SECP256k1)\n",
    "bob_private_key = SigningKey.generate(curve=SECP256k1)\n",
    "alice_private_key = SigningKey.generate(curve=SECP256k1)\n",
    "\n",
    "bank_public_key = bank_private_key.get_verifying_key()\n",
    "bob_public_key = bob_private_key.get_verifying_key()\n",
    "alice_public_key = alice_private_key.get_verifying_key()"
   ]
  },
  {
   "cell_type": "code",
   "execution_count": 22,
   "metadata": {},
   "outputs": [],
   "source": [
    "from utils import serialize\n",
    "\n",
    "# given a public key, return an ECDSACoin\n",
    "# bank --ECDSACoin--> publicKey provided\n",
    "def issue(publicKey):\n",
    "    message = serialize(publicKey)\n",
    "    signature = bank_private_key.sign(message)\n",
    "    transfer = Transfer(\n",
    "        signature=signature,\n",
    "        publicKey=publicKey\n",
    "    )\n",
    "    coin = ECDSACoin([transfer])\n",
    "    return coin"
   ]
  },
  {
   "cell_type": "markdown",
   "metadata": {},
   "source": [
    "# Validating the First Transfer"
   ]
  },
  {
   "cell_type": "code",
   "execution_count": 17,
   "metadata": {},
   "outputs": [],
   "source": [
    "def validate_first_transfer(coin):\n",
    "    transfer = coin.transfers[0]\n",
    "    bank_public_key.verify(transfer.signature, serialize(transfer.publicKey))"
   ]
  },
  {
   "cell_type": "code",
   "execution_count": 28,
   "metadata": {},
   "outputs": [],
   "source": [
    "aliceCoin = issue(alice_public_key)"
   ]
  },
  {
   "cell_type": "code",
   "execution_count": 29,
   "metadata": {},
   "outputs": [
    {
     "data": {
      "text/plain": [
       "True"
      ]
     },
     "execution_count": 29,
     "metadata": {},
     "output_type": "execute_result"
    }
   ],
   "source": [
    "validate_first_transfer(aliceCoin)"
   ]
  },
  {
   "cell_type": "code",
   "execution_count": 30,
   "metadata": {},
   "outputs": [
    {
     "name": "stdout",
     "output_type": "stream",
     "text": [
      "Bad signature detected\n"
     ]
    }
   ],
   "source": [
    "from ecdsa import BadSignatureError\n",
    "\n",
    "message = serialize(bob_public_key)\n",
    "signature = bob_private_key.sign(message)\n",
    "transfer = Transfer(\n",
    "    signature=signature,\n",
    "    publicKey=bob_public_key\n",
    ")\n",
    "bobCoin = ECDSACoin([transfer])\n",
    "try:\n",
    "    validate_first_transfer(bobCoin)\n",
    "except BadSignatureError:\n",
    "    print(\"Bad signature detected\")"
   ]
  },
  {
   "cell_type": "markdown",
   "metadata": {},
   "source": [
    "# Validating Subsequent Transfers"
   ]
  },
  {
   "cell_type": "code",
   "execution_count": 31,
   "metadata": {},
   "outputs": [],
   "source": [
    "def transfer_message(previous_signature, next_owner_public_key):\n",
    "    return serialize({\n",
    "        \"previous_signature\": previous_signature,\n",
    "        \"next_owner_public_key\": next_owner_public_key\n",
    "    })\n",
    "\n",
    "def validate(coin):\n",
    "    #check the first tranfer\n",
    "    transfer = coin.transfers[0]\n",
    "    bank_public_key.verify(transfer.signature, serialize(transfer.publicKey))\n",
    "    \n",
    "    prev_transfer = transfer\n",
    "    for next_transfer in coin.transfers[1:]:\n",
    "        prev_transfer.publicKey.verify(\n",
    "            next_transfer.signature, \n",
    "            transfer_message(prev_transfer.signature,next_transfer.publicKey)\n",
    "        )\n",
    "        prev_transfer = next_transfer"
   ]
  },
  {
   "cell_type": "code",
   "execution_count": 32,
   "metadata": {},
   "outputs": [],
   "source": [
    "def get_owner(coin):\n",
    "    database = {\n",
    "        bank_public_key: \"Bank\",\n",
    "        bob_public_key: \"Bob\",\n",
    "        alice_public_key: \"Alice\"\n",
    "    }\n",
    "    return database[coin.transfers[-1].publicKey]"
   ]
  },
  {
   "cell_type": "code",
   "execution_count": 41,
   "metadata": {},
   "outputs": [
    {
     "name": "stdout",
     "output_type": "stream",
     "text": [
      "Alice\n",
      "Bob\n"
     ]
    }
   ],
   "source": [
    "coin = issue(alice_public_key)\n",
    "validate(coin)\n",
    "print(get_owner(coin))\n",
    "message = transfer_message(coin.transfers[-1].signature,bob_public_key)\n",
    "alice_to_bob = Transfer(\n",
    "    signature=alice_private_key.sign(message),\n",
    "    publicKey=bob_public_key\n",
    ")\n",
    "coin.transfers.append(alice_to_bob)\n",
    "validate(coin)\n",
    "print(get_owner(coin))"
   ]
  },
  {
   "cell_type": "markdown",
   "metadata": {},
   "source": [
    "# Serialization"
   ]
  },
  {
   "cell_type": "code",
   "execution_count": 42,
   "metadata": {},
   "outputs": [],
   "source": [
    "from utils import to_disk, from_disk"
   ]
  },
  {
   "cell_type": "code",
   "execution_count": 44,
   "metadata": {},
   "outputs": [
    {
     "name": "stdout",
     "output_type": "stream",
     "text": [
      "does coinfile exist on disk? False\n"
     ]
    }
   ],
   "source": [
    "import os\n",
    "\n",
    "filename = \"coin.ecdsacoin\"\n",
    "\n",
    "print(\"does coinfile exist on disk?\", os.path.isfile(filename))"
   ]
  },
  {
   "cell_type": "code",
   "execution_count": 45,
   "metadata": {},
   "outputs": [],
   "source": [
    "coin = issue(alice_public_key)\n",
    "to_disk(coin, filename)"
   ]
  },
  {
   "cell_type": "code",
   "execution_count": 46,
   "metadata": {},
   "outputs": [
    {
     "name": "stdout",
     "output_type": "stream",
     "text": [
      "does coinfile exist on disk? True\n"
     ]
    }
   ],
   "source": [
    "print(\"does coinfile exist on disk?\", os.path.isfile(filename))"
   ]
  },
  {
   "cell_type": "code",
   "execution_count": 48,
   "metadata": {},
   "outputs": [
    {
     "data": {
      "text/plain": [
       "<__main__.ECDSACoin at 0x1066e1e48>"
      ]
     },
     "execution_count": 48,
     "metadata": {},
     "output_type": "execute_result"
    }
   ],
   "source": [
    "coin= from_disk(filename)\n",
    "coin"
   ]
  },
  {
   "cell_type": "markdown",
   "metadata": {},
   "source": [
    "# The Finished Product\n",
    "\n",
    "[ecdsacoin.py](ecdsacoin.py)"
   ]
  },
  {
   "cell_type": "code",
   "execution_count": 21,
   "metadata": {},
   "outputs": [],
   "source": [
    "import ecdsacoin\n",
    "\n",
    "coin = ecdsacoin.issue(alice_public_key)\n",
    "coin.validate()\n",
    "\n",
    "alice_to_bob = Transfer(\n",
    "    signature=alice_private_key.sign(coin.transfers[0].signature),\n",
    "    public_key=bob_public_key,\n",
    ")\n",
    "\n",
    "coin.transfers.append(alice_to_bob)\n",
    "coin.validate()"
   ]
  }
 ],
 "metadata": {
  "kernelspec": {
   "display_name": "Python 3",
   "language": "python",
   "name": "python3"
  },
  "language_info": {
   "codemirror_mode": {
    "name": "ipython",
    "version": 3
   },
   "file_extension": ".py",
   "mimetype": "text/x-python",
   "name": "python",
   "nbconvert_exporter": "python",
   "pygments_lexer": "ipython3",
   "version": "3.7.0"
  }
 },
 "nbformat": 4,
 "nbformat_minor": 2
}
