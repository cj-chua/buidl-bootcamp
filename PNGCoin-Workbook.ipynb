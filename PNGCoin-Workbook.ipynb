{
 "cells": [
  {
   "cell_type": "markdown",
   "metadata": {},
   "source": [
    "[Here are the slides](https://docs.google.com/presentation/d/11uyJMpCyVceYlC50QUdVp3DJe42BLxW4CHykxIdR7AU/edit?usp=sharing)\n"
   ]
  },
  {
   "cell_type": "markdown",
   "metadata": {},
   "source": [
    "# Opening Images in Python\n",
    "\n",
    "How to use the Pillow library"
   ]
  },
  {
   "cell_type": "code",
   "execution_count": 1,
   "metadata": {},
   "outputs": [],
   "source": [
    "from PIL import Image\n",
    "\n",
    "img = Image.open(\"alice.png\")\n",
    "img.show()"
   ]
  },
  {
   "cell_type": "markdown",
   "metadata": {},
   "source": [
    "# Asking User to Verify a PNG Signature \n",
    "\n",
    "Requesting user input. Does the supplied signature photo make sense?"
   ]
  },
  {
   "cell_type": "code",
   "execution_count": 4,
   "metadata": {},
   "outputs": [],
   "source": [
    "def display_and_validate(filename):\n",
    "    img = Image.open(filename)\n",
    "    img.show()\n",
    "    validate()\n",
    "    \n",
    "def validate():\n",
    "    user_input = input(\"Is this a valid signature?(y/n)\")\n",
    "    if user_input.lower() ==  \"y\":\n",
    "        print(\"It is valid\")\n",
    "    elif user_input.lower() == \"n\":\n",
    "        print(\"It is invalid\")\n",
    "    else:\n",
    "        validate()"
   ]
  },
  {
   "cell_type": "code",
   "execution_count": 5,
   "metadata": {},
   "outputs": [
    {
     "name": "stdout",
     "output_type": "stream",
     "text": [
      "Is this a valid signature?y\n",
      "It is valid\n"
     ]
    }
   ],
   "source": [
    "display_and_validate(\"alice.png\")"
   ]
  },
  {
   "cell_type": "markdown",
   "metadata": {},
   "source": [
    "# Defining the Coin\n",
    "\n",
    "Stupid-simple Python class"
   ]
  },
  {
   "cell_type": "code",
   "execution_count": 6,
   "metadata": {},
   "outputs": [],
   "source": [
    "class PNGCoin:\n",
    "    def __init__(self, transfers):\n",
    "        self.transfers = transfers"
   ]
  },
  {
   "cell_type": "markdown",
   "metadata": {},
   "source": [
    "# Validating a Coin\n",
    "\n",
    "Here we check every entry in PNGCoin.transfers"
   ]
  },
  {
   "cell_type": "code",
   "execution_count": 7,
   "metadata": {},
   "outputs": [],
   "source": [
    "coin = PNGCoin([\n",
    "    Image.open(\"alice.png\"),\n",
    "    Image.open(\"alice-to-bob.png\")\n",
    "])"
   ]
  },
  {
   "cell_type": "code",
   "execution_count": 17,
   "metadata": {},
   "outputs": [],
   "source": [
    "def handle_user_input(user_input):\n",
    "    if user_input.lower() ==  \"y\":\n",
    "        return True\n",
    "    elif user_input.lower() == \"n\":\n",
    "        return False\n",
    "    else:\n",
    "        return handle_user_input(input(\"Is this a valid signature?(y/n)\"))\n",
    "        \n",
    "def validate(coin):\n",
    "    for transfer in coin.transfers:\n",
    "        transfer.show()\n",
    "        valid = handle_user_input(input(\"Is this a valid signature?(y/n)\"))\n",
    "        if not valid:\n",
    "            return False\n",
    "    return True"
   ]
  },
  {
   "cell_type": "code",
   "execution_count": 18,
   "metadata": {},
   "outputs": [
    {
     "name": "stdout",
     "output_type": "stream",
     "text": [
      "Is this a valid signature?(y/n)d\n",
      "Is this a valid signature?(y/n)d\n",
      "Is this a valid signature?(y/n)y\n",
      "Is this a valid signature?(y/n)d\n",
      "Is this a valid signature?(y/n)y\n",
      "True\n"
     ]
    }
   ],
   "source": [
    "print(validate(coin))"
   ]
  },
  {
   "cell_type": "markdown",
   "metadata": {},
   "source": [
    "# Serializing Coins \n",
    "\n",
    "Let's take the coin defined ^^ and write it to disk"
   ]
  },
  {
   "cell_type": "code",
   "execution_count": 24,
   "metadata": {
    "scrolled": true
   },
   "outputs": [],
   "source": [
    "import pickle\n",
    "\n",
    "def serialize(coin):\n",
    "    return pickle.dumps(coin)"
   ]
  },
  {
   "cell_type": "code",
   "execution_count": 25,
   "metadata": {},
   "outputs": [],
   "source": [
    "def to_disk(coin, filename):\n",
    "    serialized = serialize(coin)\n",
    "    with open(filename, \"wb\") as f:\n",
    "        f.write(serialized)"
   ]
  },
  {
   "cell_type": "code",
   "execution_count": 26,
   "metadata": {},
   "outputs": [],
   "source": [
    "!ls | grep \"bobs.pngcoin\""
   ]
  },
  {
   "cell_type": "code",
   "execution_count": 27,
   "metadata": {},
   "outputs": [],
   "source": [
    "to_disk(coin, \"bobs.pngcoin\")"
   ]
  },
  {
   "cell_type": "code",
   "execution_count": 28,
   "metadata": {},
   "outputs": [
    {
     "name": "stdout",
     "output_type": "stream",
     "text": [
      "bobs.pngcoin\r\n"
     ]
    }
   ],
   "source": [
    "!ls | grep \"bobs.pngcoin\""
   ]
  },
  {
   "cell_type": "markdown",
   "metadata": {},
   "source": [
    "# Deserializing Coins\n",
    "\n",
    "Let's take the `coin.pngcoin` file we created ^^ and read it back into Python"
   ]
  },
  {
   "cell_type": "code",
   "execution_count": 29,
   "metadata": {},
   "outputs": [],
   "source": [
    "def deserialize(serialized):\n",
    "    return pickle.loads(serialized)"
   ]
  },
  {
   "cell_type": "code",
   "execution_count": 30,
   "metadata": {},
   "outputs": [
    {
     "data": {
      "text/plain": [
       "True"
      ]
     },
     "execution_count": 30,
     "metadata": {},
     "output_type": "execute_result"
    }
   ],
   "source": [
    "coin2 = deserialize(serialize(coin))\n",
    "coin2.transfers == coin.transfers"
   ]
  },
  {
   "cell_type": "code",
   "execution_count": 33,
   "metadata": {},
   "outputs": [],
   "source": [
    "def read_disk(filename):\n",
    "    with open(filename, \"rb\") as f:\n",
    "        serialized = f.read()\n",
    "        return deserialize(serialized)"
   ]
  },
  {
   "cell_type": "markdown",
   "metadata": {},
   "source": []
  },
  {
   "cell_type": "code",
   "execution_count": 34,
   "metadata": {},
   "outputs": [
    {
     "data": {
      "text/plain": [
       "True"
      ]
     },
     "execution_count": 34,
     "metadata": {},
     "output_type": "execute_result"
    }
   ],
   "source": [
    "coin3 = read_disk(\"bobs.pngcoin\")\n",
    "coin3.transfers == coin.transfers"
   ]
  },
  {
   "cell_type": "markdown",
   "metadata": {},
   "source": [
    "# Using the Final Library\n",
    "\n",
    "I also wrote a [pngcoin.py](pngcoin.py) library that uses a more object-oriented design. Let's explore how it works:"
   ]
  },
  {
   "cell_type": "code",
   "execution_count": null,
   "metadata": {},
   "outputs": [],
   "source": []
  }
 ],
 "metadata": {
  "kernelspec": {
   "display_name": "Python 3",
   "language": "python",
   "name": "python3"
  },
  "language_info": {
   "codemirror_mode": {
    "name": "ipython",
    "version": 3
   },
   "file_extension": ".py",
   "mimetype": "text/x-python",
   "name": "python",
   "nbconvert_exporter": "python",
   "pygments_lexer": "ipython3",
   "version": "3.7.0"
  }
 },
 "nbformat": 4,
 "nbformat_minor": 2
}
